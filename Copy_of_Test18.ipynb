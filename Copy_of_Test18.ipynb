{
  "nbformat": 4,
  "nbformat_minor": 0,
  "metadata": {
    "colab": {
      "provenance": [],
      "authorship_tag": "ABX9TyOUV/376n3UTiLXckbd2lIT",
      "include_colab_link": true
    },
    "kernelspec": {
      "name": "python3",
      "display_name": "Python 3"
    },
    "language_info": {
      "name": "python"
    }
  },
  "cells": [
    {
      "cell_type": "markdown",
      "metadata": {
        "id": "view-in-github",
        "colab_type": "text"
      },
      "source": [
        "<a href=\"https://colab.research.google.com/github/shchepos/DS-project---Road-accidents-in-France/blob/master/Copy_of_Test18.ipynb\" target=\"_parent\"><img src=\"https://colab.research.google.com/assets/colab-badge.svg\" alt=\"Open In Colab\"/></a>"
      ]
    },
    {
      "cell_type": "code",
      "execution_count": 27,
      "metadata": {
        "id": "F9bGigA5Ad4D"
      },
      "outputs": [],
      "source": [
        "import tensorflow as tf\n",
        "import numpy as np\n",
        "from matplotlib import pyplot as plt"
      ]
    },
    {
      "cell_type": "code",
      "source": [
        "x=tf.Variable(initial_value=-5.0)\n",
        "\n",
        "def f(x):\n",
        "  return np.exp(x-2)+15*x*x+50*x+1"
      ],
      "metadata": {
        "id": "z0GqUia6Blez"
      },
      "execution_count": 28,
      "outputs": []
    },
    {
      "cell_type": "code",
      "source": [
        "x1=np.linspace(-5, 5, 100)\n",
        "\n",
        "plt.plot(x1, f(x1))"
      ],
      "metadata": {
        "colab": {
          "base_uri": "https://localhost:8080/",
          "height": 448
        },
        "id": "Rp6kstKQCkBy",
        "outputId": "9f4cedd7-f144-4b4a-a959-4b765ef6717a"
      },
      "execution_count": 30,
      "outputs": [
        {
          "output_type": "execute_result",
          "data": {
            "text/plain": [
              "[<matplotlib.lines.Line2D at 0x7f87539e7010>]"
            ]
          },
          "metadata": {},
          "execution_count": 30
        },
        {
          "output_type": "display_data",
          "data": {
            "text/plain": [
              "<Figure size 640x480 with 1 Axes>"
            ],
            "image/png": "[encoded data removed]"
          },
          "metadata": {}
        }
      ]
    },
    {
      "cell_type": "code",
      "source": [
        "f(x).numpy()"
      ],
      "metadata": {
        "colab": {
          "base_uri": "https://localhost:8080/"
        },
        "id": "v2vpDcCwHt03",
        "outputId": "ba3ae2ad-5b0a-4834-982d-1aa8052a18b0"
      },
      "execution_count": 21,
      "outputs": [
        {
          "output_type": "execute_result",
          "data": {
            "text/plain": [
              "126.000916"
            ]
          },
          "metadata": {},
          "execution_count": 21
        }
      ]
    },
    {
      "cell_type": "code",
      "source": [
        "x.assign(-1.0)\n",
        "\n",
        "with tf.GradientTape() as tape:\n",
        "  function=f(x)\n",
        "\n",
        "#computation of the gradient at x=-2\n",
        "\n",
        "grad=tape.gradient(function, x)\n",
        "print(grad.numpy())\n"
      ],
      "metadata": {
        "colab": {
          "base_uri": "https://localhost:8080/"
        },
        "id": "d1XDUpmnGaHY",
        "outputId": "9c23dcbd-9d5c-4ce0-b838-8de250c575b8"
      },
      "execution_count": 35,
      "outputs": [
        {
          "output_type": "stream",
          "name": "stdout",
          "text": [
            "20.0\n"
          ]
        }
      ]
    },
    {
      "cell_type": "code",
      "source": [
        "rate=0.1\n",
        "nb_iteration=100\n",
        "x.assign(-1.0)\n",
        "\n",
        "for i in range(nb_iteration):\n",
        "  with tf.GradientTape() as tape:\n",
        "    function=f(x)\n",
        "  grad=tape.gradient(function, x)\n",
        "  x.assign(x-rate*grad)  \n",
        "\n",
        "print('Value of gradient at x={}:{}'.format(x.numpy(), grad.numpy()))\n"
      ],
      "metadata": {
        "colab": {
          "base_uri": "https://localhost:8080/"
        },
        "id": "x_nEqr68ISCH",
        "outputId": "05922a5f-de79-4f87-f15f-92333a3e06f3"
      },
      "execution_count": 38,
      "outputs": [
        {
          "output_type": "stream",
          "name": "stdout",
          "text": [
            "Value of gradient at x=8.451003497802438e+29:-1.2676504793356474e+31\n"
          ]
        },
        {
          "output_type": "stream",
          "name": "stderr",
          "text": [
            "<ipython-input-28-c16642004eff>:4: RuntimeWarning: overflow encountered in exp\n",
            "  return np.exp(x-2)+15*x*x+50*x+1\n"
          ]
        }
      ]
    }
  ]
}
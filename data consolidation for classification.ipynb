{
 "cells": [
  {
   "cell_type": "code",
   "execution_count": null,
   "id": "0fb39d2b",
   "metadata": {},
   "outputs": [],
   "source": [
    "#READING CARACTERISTIQUES\n",
    "import pandas as pd\n",
    "import requests\n",
    "\n",
    "base_url = \"https://github.com/trungsi/DS-project---Road-accidents-in-France/blob/master/\"\n",
    "\n",
    "dfs = []\n",
    "for y in range(2006, 2009):\n",
    "    dfs.append(pd.read_csv(base_url + 'caracteristiques_' + str(y) + '.csv?raw=true', sep=',', encoding='ISO-8859-1'))\n",
    "\n",
    "dfs.append(pd.read_csv(base_url + 'caracteristiques_' + str(2009) + '.csv?raw=true', sep='\\t', encoding='ISO-8859-1'))\n",
    "\n",
    "for y in range(2010, 2017):\n",
    "    dfs.append(pd.read_csv(base_url + 'caracteristiques_' + str(y) + '.csv?raw=true', sep=',', encoding='ISO-8859-1'))\n",
    "\n",
    "for y in range(2017, 2019):\n",
    "    dfs.append(pd.read_csv(base_url + 'caracteristiques-' + str(y) + '.csv?raw=true', sep=',', encoding='ISO-8859-1'))\n",
    "\n",
    "for y in range(2019, 2022):\n",
    "    dfs.append(pd.read_csv(base_url + 'caracteristiques-' + str(y) + '.csv?raw=true', sep=';', encoding='ISO-8859-1'))\n",
    "\n",
    "df_carac = pd.concat(dfs)\n",
    "df_carac.head(20)"
   ]
  },
  {
   "cell_type": "code",
   "execution_count": null,
   "id": "795c961c",
   "metadata": {},
   "outputs": [],
   "source": [
    "\n",
    "df_carac.info()"
   ]
  },
  {
   "cell_type": "code",
   "execution_count": null,
   "id": "3cee020a",
   "metadata": {},
   "outputs": [],
   "source": [
    "#check for Num_Acc uniqness in df_carac\n",
    "print(df_carac.Num_Acc.duplicated().sum())"
   ]
  },
  {
   "cell_type": "code",
   "execution_count": null,
   "id": "508116e0",
   "metadata": {},
   "outputs": [],
   "source": [
    "#READING USAGERS\n",
    "\n",
    "dfs = []\n",
    "for y in range(2006, 2019):\n",
    "    dfs.append(pd.read_csv(base_url + 'usagers_' + str(y) + '.csv?raw=true', sep=',', encoding='ISO-8859-1'))\n",
    "for y in range(2019, 2022):\n",
    "    dfs.append(pd.read_csv(base_url + 'usagers_' + str(y) + '.csv?raw=true', sep=';', encoding='ISO-8859-1'))\n",
    "    \n",
    "df_usagers = pd.concat(dfs)\n",
    "print(df_usagers.head(20))\n",
    "print(df_usagers.info(show_counts=True))"
   ]
  },
  {
   "cell_type": "code",
   "execution_count": null,
   "id": "76e7ab88",
   "metadata": {},
   "outputs": [],
   "source": [
    "df_usagers = df_usagers.dropna(subset=['grav'])"
   ]
  },
  {
   "cell_type": "code",
   "execution_count": null,
   "id": "58cedbd8",
   "metadata": {},
   "outputs": [],
   "source": []
  },
  {
   "cell_type": "code",
   "execution_count": null,
   "id": "cac53eff",
   "metadata": {},
   "outputs": [],
   "source": [
    "df_usagers = df_usagers.replace({'grav': {1: 0, 2: 13, 3: 7, 4: 3}})"
   ]
  },
  {
   "cell_type": "code",
   "execution_count": null,
   "id": "324934f4",
   "metadata": {},
   "outputs": [],
   "source": [
    "print(df_usagers.head(20))\n",
    "print(df_usagers.info(show_counts=True))"
   ]
  },
  {
   "cell_type": "code",
   "execution_count": null,
   "id": "09d93409",
   "metadata": {},
   "outputs": [],
   "source": [
    "print(df_usagers['grav'].unique())"
   ]
  },
  {
   "cell_type": "code",
   "execution_count": null,
   "id": "705e7964",
   "metadata": {},
   "outputs": [],
   "source": [
    "print(df_usagers.Num_Acc.duplicated().sum())\n",
    "#df_carac = df_carac.astype({\"dep\": str})\n",
    "#print(df_carac.dep.unique())\n",
    "\n",
    "print(df_usagers.num_veh.unique())"
   ]
  },
  {
   "cell_type": "code",
   "execution_count": null,
   "id": "434fc968",
   "metadata": {},
   "outputs": [],
   "source": [
    "#df_grav = (df_usagers[['Num_Acc', 'grav']].groupby('Num_Acc').agg({'mean', 'sum', 'count'})\n",
    "#    .reset_index())\n",
    "#df_grav.head()\n",
    "#df_grav.columns = ['Num_Acc', 'grav_mean', 'grav_total', 'nb_usagers']\n",
    "#df_grav.sort_values(by=['grav_total', 'nb_usagers'], ascending=[False, True])"
   ]
  },
  {
   "cell_type": "code",
   "execution_count": null,
   "id": "86c7e17a",
   "metadata": {},
   "outputs": [],
   "source": [
    "#READING VEHICULES\n",
    "\n",
    "dfs = []\n",
    "for y in range(2006, 2019):\n",
    "    dfs.append(pd.read_csv(base_url + 'vehicules_' + str(y) + '.csv?raw=true', sep=',', encoding='ISO-8859-1'))\n",
    "for y in range(2019, 2022):\n",
    "    dfs.append(pd.read_csv(base_url + 'vehicules_' + str(y) + '.csv?raw=true', sep=';', encoding='ISO-8859-1'))\n",
    "\n",
    "df_vehicules = pd.concat(dfs)\n",
    "print(df_vehicules.head(20))\n",
    "print(df_vehicules.info(show_counts=True))"
   ]
  },
  {
   "cell_type": "code",
   "execution_count": null,
   "id": "21cf0ab3",
   "metadata": {},
   "outputs": [],
   "source": [
    "print(df_vehicules.Num_Acc.duplicated().sum())\n",
    "print(df_vehicules.id_vehicule.duplicated().sum())\n",
    "#print(df_vehicules.id_vehicule.unique().sum())\n",
    "print(df_vehicules.num_veh.unique())"
   ]
  },
  {
   "cell_type": "code",
   "execution_count": null,
   "id": "9dc81410",
   "metadata": {},
   "outputs": [],
   "source": [
    "#READING LIEUX \n",
    "\n",
    "dfs = []\n",
    "for y in range(2006, 2019):\n",
    "    dfs.append(pd.read_csv(base_url + 'lieux_' + str(y) + '.csv?raw=true', sep=',', encoding='ISO-8859-1'))\n",
    "for y in range(2019, 2022):\n",
    "    dfs.append(pd.read_csv(base_url + 'lieux_' + str(y) + '.csv?raw=true', sep=';', encoding='ISO-8859-1'))\n",
    "\n",
    "df_lieux = pd.concat(dfs)\n",
    "print(df_lieux.head(20))\n",
    "print(df_lieux.info(show_counts=True))"
   ]
  },
  {
   "cell_type": "code",
   "execution_count": null,
   "id": "549baff8",
   "metadata": {},
   "outputs": [],
   "source": [
    "print(df_lieux.Num_Acc.duplicated().sum())\n"
   ]
  },
  {
   "cell_type": "code",
   "execution_count": null,
   "id": "c35ed763",
   "metadata": {},
   "outputs": [],
   "source": [
    "#MERGING TABLES"
   ]
  },
  {
   "cell_type": "code",
   "execution_count": null,
   "id": "42a3d469",
   "metadata": {},
   "outputs": [],
   "source": [
    "display(df_usagers.info())\n",
    "display(df_vehicules.info())"
   ]
  },
  {
   "cell_type": "code",
   "execution_count": null,
   "id": "0306dee4",
   "metadata": {},
   "outputs": [],
   "source": [
    "df_acc = df_usagers.merge(df_vehicules, on=['Num_Acc', 'num_veh'], how='left')\n",
    "df_acc.info(show_counts=True)\n"
   ]
  },
  {
   "cell_type": "code",
   "execution_count": null,
   "id": "b451a4cd",
   "metadata": {},
   "outputs": [],
   "source": [
    "#print(df_acc.head(20))"
   ]
  },
  {
   "cell_type": "code",
   "execution_count": null,
   "id": "056d5f33",
   "metadata": {},
   "outputs": [],
   "source": [
    "display(df_carac.info())"
   ]
  },
  {
   "cell_type": "code",
   "execution_count": null,
   "id": "18c99c95",
   "metadata": {},
   "outputs": [],
   "source": [
    "df_acc = df_acc.merge(df_carac, on='Num_Acc', how='left', )\n",
    "df_acc.info(show_counts=True)"
   ]
  },
  {
   "cell_type": "code",
   "execution_count": null,
   "id": "aa7a4100",
   "metadata": {},
   "outputs": [],
   "source": [
    "df_lieux.info(show_counts=True)"
   ]
  },
  {
   "cell_type": "code",
   "execution_count": null,
   "id": "126312b1",
   "metadata": {},
   "outputs": [],
   "source": [
    "df_acc = df_acc.merge(df_lieux, on='Num_Acc', how='left')\n",
    "df_acc.info(show_counts=True)"
   ]
  },
  {
   "cell_type": "code",
   "execution_count": null,
   "id": "b8ac73d0",
   "metadata": {},
   "outputs": [],
   "source": []
  },
  {
   "cell_type": "code",
   "execution_count": null,
   "id": "a1275c88",
   "metadata": {},
   "outputs": [],
   "source": []
  },
  {
   "cell_type": "code",
   "execution_count": null,
   "id": "66662c26",
   "metadata": {},
   "outputs": [],
   "source": [
    "\n"
   ]
  },
  {
   "cell_type": "code",
   "execution_count": null,
   "id": "7e69be21",
   "metadata": {},
   "outputs": [],
   "source": [
    "#CLEANING DATA"
   ]
  },
  {
   "cell_type": "code",
   "execution_count": null,
   "id": "de4d8e0a",
   "metadata": {},
   "outputs": [],
   "source": [
    "df_acc = df_acc.dropna(subset=['grav'])\n",
    "print(df_acc.info(show_counts=True))"
   ]
  },
  {
   "cell_type": "code",
   "execution_count": null,
   "id": "f275623b",
   "metadata": {
    "scrolled": true
   },
   "outputs": [],
   "source": [
    "#non-useful colomns\n",
    "df_clean= df_acc.drop(columns=['Num_Acc', 'adr', 'lat', 'long', 'v1', 'v2', 'pr', 'pr1','voie', 'id_vehicule_x', 'id_vehicule_y', 'num_veh', 'an_nais', 'trajet', 'gps', 'secu1', 'secu2', 'secu3', 'motor', 'vma'])\n",
    "#not enough data\n",
    "#df_clean=df_clean.drop(columns=[], inplace=True)\n",
    "print(df_clean.info(show_counts=True))"
   ]
  },
  {
   "cell_type": "code",
   "execution_count": null,
   "id": "f0e840cd",
   "metadata": {},
   "outputs": [],
   "source": [
    "#df_clean.dropna(subset=['place', 'secu','locp', 'voie', 'lartpc', 'situ', 'actp', 'nbv', 'env1', 'vosp', 'choc', 'etatp', 'plan'], inplace=True)\n",
    "df_clean.dropna(inplace=True)\n"
   ]
  },
  {
   "cell_type": "code",
   "execution_count": null,
   "id": "7b517939",
   "metadata": {},
   "outputs": [],
   "source": [
    "print(df_clean.info(show_counts=True))"
   ]
  },
  {
   "cell_type": "code",
   "execution_count": null,
   "id": "7144232c",
   "metadata": {},
   "outputs": [],
   "source": [
    "#df_acc.head()\n",
    "\n",
    "df_clean.to_csv('accidents_for_classification_model.csv')\n",
    "#from google.colab import drive\n",
    "#drive.mount('/content/drive')\n",
    "#path = '/content/drive/My Drive/DataScience project/Road accidents - model.csv'\n",
    "#with open(path, 'w', encoding = 'ISO-8859-1') as f:\n",
    "#  df_acc.to_csv(f)"
   ]
  },
  {
   "cell_type": "code",
   "execution_count": null,
   "id": "47ed4990",
   "metadata": {},
   "outputs": [],
   "source": []
  }
 ],
 "metadata": {
  "kernelspec": {
   "display_name": "Python 3 (ipykernel)",
   "language": "python",
   "name": "python3"
  },
  "language_info": {
   "codemirror_mode": {
    "name": "ipython",
    "version": 3
   },
   "file_extension": ".py",
   "mimetype": "text/x-python",
   "name": "python",
   "nbconvert_exporter": "python",
   "pygments_lexer": "ipython3",
   "version": "3.8.8"
  }
 },
 "nbformat": 4,
 "nbformat_minor": 5
}
